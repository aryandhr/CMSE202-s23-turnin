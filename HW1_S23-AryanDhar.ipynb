{
 "cells": [
  {
   "cell_type": "markdown",
   "metadata": {
    "id": "oaGzBYqYZa9f"
   },
   "source": [
    "# Homework Assignment 1 (Individual)\n",
    "## Git practice, debugging practice, and new Python packages"
   ]
  },
  {
   "cell_type": "markdown",
   "metadata": {
    "id": "CPPmlZrQZcAQ"
   },
   "source": [
    "### <p style=\"text-align: right;\"> &#9989; Aryan Dhar</p>\n",
    "### <p style=\"text-align: right;\"> &#9989; aryandhr</p>"
   ]
  },
  {
   "cell_type": "markdown",
   "metadata": {
    "id": "iQj_paJ9ZdmJ"
   },
   "source": [
    "\n",
    "### Goals for this homework assignment\n",
    "By the end of this assignment, you should be able will:\n",
    "* Demonstrate the purpose and utility of Git and demonstrate a workflow in practice.\n",
    "* Use Git to create a repository, track changes to the files within the repository, and push those changes to a remote repository.\n",
    "* Articulate the most common debugging strategies\n",
    "* Debug some basic Python code.\n",
    "* Read documentation and example code to use a new Python package\n",
    "\n",
    "Work through the following assignment, making sure to follow all of the directions and answer all of the questions.\n",
    "\n",
    "There are **100 points** possible on this assignment. Point values for each part are included in the section headers and question prompts.\n",
    "\n",
    "**This assignment is due roughly two weeks from now at 11:59 pm on Friday, February 3rd.** It should be uploaded into the \"Homework Assignments\" submission folder for Homework #1 on D2L.  Submission instructions can be found at the end of the notebook. "
   ]
  },
  {
   "cell_type": "markdown",
   "metadata": {
    "id": "-lMRNRFDZBlh"
   },
   "source": [
    "# Part 0: Office Hours and Academic Integrity (10 points)\n",
    "\n",
    "## Academic integrity statement (2 Points)\n",
    "\n",
    "In the markdown cell below, paste your personal academic integrity statement. By including this statement, you are confirming that you are submitting this as your own work and not that of someone else.\n"
   ]
  },
  {
   "cell_type": "markdown",
   "metadata": {
    "id": "dyaVnz36ZDhX"
   },
   "source": [
    "\"As a Spartan, I shall work to uphold the highest moral principles. I will strive to be honest in my work and in my interactions with others. I will also take delight in the knowledge that honor is more important than grades. After I graduate from Michigan State University, I'll continue to uphold these ideals and work to develop my personal integrity in whatever I do.""
   ]
  },
  {
   "cell_type": "markdown",
   "metadata": {
    "id": "FpV1F8X5ZGyn"
   },
   "source": [
    "## Going to Office Hours (8 Points)\n",
    "\n",
    "### Why are we doing this?\n",
    "We want to make sure that everyone knows how to access the resources\n",
    "available to you. One of the best resources you have at your disposal is office hours.\n",
    "\n",
    "### What will you do?\n",
    "(At minimum) Go to one office hour session ​(it doesn’t matter which one you go to). Come with one question that you would like to talk about. It can be big or small. Ask your question. All of the instructors for CMSE 202 (section leads, TAs, and LAs) will be adding to a running list of folks that we see during office hours; as long as your name appears on the list, you’ll get credit for this part of Homework 1.\n",
    "\n",
    "**NOTE:** The day when the homework is due (**Friday, February 3rd**) will be the busiest time for folks to go to office hours. You are **STRONGLY** encouraged to go to office hours before Friday to get credit for this part of this assignment. (You should still feel free to go to office hours on Friday for help, though!)\n",
    "\n",
    "You can find the office hours calendar on the [course website](https://cmse.msu.edu/cmse202)."
   ]
  },
  {
   "cell_type": "markdown",
   "metadata": {
    "id": "Ycc8us9qZRbQ"
   },
   "source": [
    "**&#9989; **Question 0.1 (8 points)****\n",
    "\n",
    "Type below the question you asked."
   ]
  },
  {
   "cell_type": "markdown",
   "metadata": {
    "id": "QHtvFWdQZSkF"
   },
   "source": [
    "Were you born on a Friday?"
   ]
  },
  {
   "cell_type": "markdown",
   "metadata": {
    "id": "Ouu4YtGnRm_2"
   },
   "source": [
    "# Part 1: Designing a Workflow with Git (30 points total)\n",
    "\n",
    "You have spent some time in class learning about how/why we use git in CMSE 202 and beyond, and you will be expected to use it throughout the semester.\n",
    "\n",
    "## 1.1 Propose a Software Development Workflow (10 points)\n",
    "\n",
    "You are working collaboratively with a team on a research project that includes developing code as well as writing a paper to communicate your results, and you need to ensure that all work is managed and tracked with git. Since you are learning about git in your class, your groupmates have asked you to propose a software development workflow for this project. Here, workflow is defined as the process by which the project is managed and developed.\n",
    "\n",
    "Your workflow must (at least) handle the following:\n",
    "1. What role (or roles) will each person have?\n",
    "2. How will changes be made/tracked?\n",
    "3. What are your requirements for commit messages?\n",
    "4. How do you expect people to work on their portions of the projects (using branches/merges)?\n",
    "\n",
    "In the cell below, write down the guidelines for your proposed workflow, making sure to account for all of the items mentioned above.\n"
   ]
  },
  {
   "cell_type": "markdown",
   "metadata": {
    "id": "GFkl_ExSWFv7"
   },
   "source": [
    "1. Every person will be a collaborator on the project, that could be either developing code, dicussing ideas, doing research, or writing the paper, everyone will encourage each other and make sure to pull their own weight.\n",
    "2. Changes to the codebase will be tracked with git. Every team member is expected to pull from the remote repo as often as possible and don't forget to add, commit, and push (in order)!\n",
    "3. Commit messages should be brief but descriptive. Treat it like a tiny docstring telling the rest of the team what you changed and/or added with your new commit.\n",
    "4. Team members are expected develop in their personal branches and create a pull request once they are done so that all the other developers can review the code before deciding to merge it."
   ]
  },
  {
   "cell_type": "markdown",
   "metadata": {
    "id": "Jvto9V5XWBHu"
   },
   "source": [
    "\n",
    "\n",
    "\n",
    "## 1.2 Testing Your Workflow (10 points)\n",
    "\n",
    "In the cell(s) below, demonstrate that your workflow works by performing (or answering) the following tests:\n",
    "\n",
    "1. A new person is joining your team, but they have never coded before and are concerned about making changes that might break your code. According to your workflow, what should their role be, and how should they make changes to the code?\n",
    "2. Using vi (or your favorite text editor), create a file called paper_draft.txt. Following your workflow, make and commit changes to that file. Copy and paste any command line interface commands you use in the cell below.\n",
    "\n",
    "\n",
    "\n",
    "\n"
   ]
  },
  {
   "cell_type": "markdown",
   "metadata": {
    "id": "oOFbq1cLZZWR"
   },
   "source": [
    "1. Being someone who has never coded before, their role should consist of doing as little as possible development and more towards doing research, writing the paper, and discussing ideas with those who can code and see if it could be implemented in the project."
   ]
  },
  {
   "cell_type": "code",
   "execution_count": 16,
   "metadata": {
    "id": "Cyo2eBLHZeWW"
   },
   "outputs": [
    {
     "ename": "SyntaxError",
     "evalue": "invalid syntax (<ipython-input-16-91fc3c169e87>, line 2)",
     "output_type": "error",
     "traceback": [
      "\u001b[0;36m  File \u001b[0;32m\"<ipython-input-16-91fc3c169e87>\"\u001b[0;36m, line \u001b[0;32m2\u001b[0m\n\u001b[0;31m    git clone https://github.com/aryandhr/CMSE202-s23-turnin\u001b[0m\n\u001b[0m        ^\u001b[0m\n\u001b[0;31mSyntaxError\u001b[0m\u001b[0;31m:\u001b[0m invalid syntax\n"
     ]
    }
   ],
   "source": [
    "# put any code here (feel free to add additional cells)\n",
    "git clone https://github.com/aryandhr/CMSE202-s23-turnin\n",
    "touch paper_draft.txt\n",
    "vi paper_draft.txt\n",
    "# inserted proposed workflow into text file.\n",
    "git add paper_draft.txt\n",
    "git commit -m \"Initial commit - proposed workflow\"\n",
    "git push origin main"
   ]
  },
  {
   "cell_type": "markdown",
   "metadata": {
    "id": "ZRnZNfSsXRIv"
   },
   "source": [
    "## 1.3 Reflecting (10 points)\n",
    "\n",
    "Answer the following questions in the cell below about your workflow:\n",
    "\n",
    "1. What challenges/bugs did you run into when testing your workflow? How might you design for them in the future?\n",
    "2. What worked well with your workflow?"
   ]
  },
  {
   "cell_type": "markdown",
   "metadata": {
    "id": "Lr1LmKb9aSdm"
   },
   "source": [
    "1. I did not make a new branch because I was just creating a text file and not writing any code. However, in the future, it might be better to specify that creating new branches is really only necessary if you are writing a script.\n",
    "2. It was good to write \"add commit and push (in order)\" in the workflow as it reminds you the steps to take in order."
   ]
  },
  {
   "cell_type": "markdown",
   "metadata": {
    "id": "cImTyMz-W_jX"
   },
   "source": [
    "## &#128721; STOP **COMMIT YOUR WORK TO GIT NOW**\n",
    "\n",
    "You should commit early and often, but at least do it after you complete each homework problem. \n",
    "\n",
    "Make sure to use meaningful commit messages that indicate the changes you have made!"
   ]
  },
  {
   "cell_type": "markdown",
   "metadata": {
    "id": "CPTa3YYWYjJG"
   },
   "source": [
    "# Part 2: Debugging Code (30 points total)\n",
    "\n",
    "Bugs are a part of life in writing code. They do not mean you are not making progress at coding. However, you can employ various debugging strategies to help you work through bugs efficiently and confidently.\n",
    "\n",
    "## 2.1 Helping a CMSE 201 Student (10 points)\n",
    "\n",
    "In the cell below, explain debugging to a CMSE 201 student, and describe the process you would recommend they use to debug their code. You must include how you would solve the various types of bugs you can encounter while coding. Remember all of the resources you can use in CMSE 201/202 (particularly Google or other search engines!).\n",
    "\n"
   ]
  },
  {
   "cell_type": "markdown",
   "metadata": {
    "id": "UslFH5ffbX80"
   },
   "source": [
    "My first step when debugging is thinking about what I want my code to do, and then think about what it is currently doing. Using the dubgger in VSCode is a great tool to see what values your variables are taking, how they are getting updated as your code runs, what exactly your functions are outputting and much more. One debugging tool I have recently discovered is pythontutor which a website where you can run your Python code and it takes you step by step through the code and tells you what each line is doing. It is always okay to Google your errors, ask for help on Slack, go to helprooms. However, it is not okay to plagiarize code and let someone else fix your code. You must understand why your code isn't working and then fix the problem."
   ]
  },
  {
   "cell_type": "markdown",
   "metadata": {
    "id": "91ouG6LrbYAZ"
   },
   "source": [
    "## 2.2 Working Through Bugs (20 points total)\n",
    "\n",
    "### 2.2.1 A Squirrelly Situation (10 points)\n",
    "\n",
    "Run the code in the cell below. There are (at least) 2 bugs to find and fix! Complete the following questions:\n",
    "\n",
    "1. Apply your debugging process to solve the bug(s) (showing the corrected code).\n",
    "2. Did your process work? If so, continue to the next problem. If not, describe why and indicate any changes you would make to your process.\n",
    "\n",
    "\n"
   ]
  },
  {
   "cell_type": "code",
   "execution_count": 17,
   "metadata": {
    "colab": {
     "base_uri": "https://localhost:8080/"
    },
    "id": "QDp4prBRg9Wn",
    "outputId": "0bddf470-9d92-4f7e-e8c4-39b3a83b4e2f"
   },
   "outputs": [
    {
     "name": "stdout",
     "output_type": "stream",
     "text": [
      "18\n"
     ]
    }
   ],
   "source": [
    "import numpy as np # import modules at the top to avoid issues later when debugging\n",
    "\n",
    "# function that returns a random number of squirrels spotted between 0 and the limit\n",
    "def squirrel_spotting_simulation(limit=15):\n",
    "    random_squirrels = np.random.randint(limit)\n",
    "    return random_squirrels\n",
    "\n",
    "# initialize number of squirrels\n",
    "squirrel_count = 0\n",
    "# initialize number of time steps\n",
    "t = 0\n",
    "\n",
    "# loop until the observer reaches a maximum of 100 squirrels spotted\n",
    "while squirrel_count <= 100:\n",
    "    # use our function to generate a random number of squirrels spotted\n",
    "    increment = squirrel_spotting_simulation(15)\n",
    "    # increment the number of time steps by 1\n",
    "    t+=1\n",
    "    # add the number of random squirrels this time step to the total number\n",
    "    squirrel_count+=increment\n",
    "\n",
    "# print the total number of timesteps it took\n",
    "print(t)"
   ]
  },
  {
   "cell_type": "markdown",
   "metadata": {
    "id": "9DFy6pqkg84W"
   },
   "source": [
    "Yes, the debugging process worked. It was easier to visualize once I run it locally in VSCode."
   ]
  },
  {
   "cell_type": "markdown",
   "metadata": {
    "id": "v3dwJ0nueFJ9"
   },
   "source": [
    "## 2.2.2 Plotting and Scheming\n",
    "\n",
    "Run the code in the cell below, then answer the following questions:\n",
    "set_xlabel vs. label\n",
    "\n",
    "\n",
    "1. Apply your debugging process to solve the bug (showing the corrected code).\n",
    "2. Did your process work? If so, continue to the next problem. If not, describe why and indicate any changes you would make to your process."
   ]
  },
  {
   "cell_type": "code",
   "execution_count": 18,
   "metadata": {
    "id": "KvwNCSVWtEhP"
   },
   "outputs": [
    {
     "data": {
      "text/plain": [
       "<matplotlib.legend.Legend at 0x7f0a7252cc70>"
      ]
     },
     "execution_count": 18,
     "metadata": {},
     "output_type": "execute_result"
    },
    {
     "data": {
      "image/png": "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\n",
      "text/plain": [
       "<Figure size 432x288 with 1 Axes>"
      ]
     },
     "metadata": {
      "needs_background": "light"
     },
     "output_type": "display_data"
    }
   ],
   "source": [
    "# code to plot two randomly generated data sets (sin and cos) on one plot\n",
    "\n",
    "import matplotlib.pyplot as plt\n",
    "import numpy as np\n",
    "\n",
    "# generate some x data: sixty data points from 0 to 4π\n",
    "x_sin = np.linspace(0,4*np.pi,60)\n",
    "\n",
    "# generate some y data: 1.5 * sin(1.2x + 0.5)\n",
    "# we add the np.random.normal(0.25,.25,60) at the end to add some randomness to the data\n",
    "y_sin = 1.5 * np.sin(1.2 * x_sin + 0.5) + np.random.normal(.25,.25,60)\n",
    "\n",
    "y_cos = 1.5 * np.cos(1.2 * x_sin + 0.5) + np.random.normal(.25,.25,60)\n",
    "# plot our data\n",
    "plt.scatter(x_sin, y_sin, label = \"sin data\")\n",
    "plt.xlabel('x')\n",
    "plt.ylabel('y')\n",
    "plt.scatter(x_sin, y_cos, label = \"cos data\")\n",
    "plt.legend()"
   ]
  },
  {
   "cell_type": "markdown",
   "metadata": {
    "id": "gdi1OLFurcgn"
   },
   "source": [
    "The set_xlabel method, as follows from its name, sets the label for the x axis. In this example, we have it set as \"x\". The label attribute on the other hand, \"labels\" our graph with the string we provide it with. Here, we have two plots and we use the label attribute in both, appropriately, to name each set's data. It is important to include the plt.legend() statement to actually see these labels."
   ]
  },
  {
   "cell_type": "markdown",
   "metadata": {
    "id": "w0jXfIeUpgty"
   },
   "source": [
    "## &#128721; STOP **COMMIT YOUR WORK TO GIT NOW**\n",
    "\n",
    "You should commit early and often, but at least do it after you complete each homework problem."
   ]
  },
  {
   "cell_type": "markdown",
   "metadata": {
    "id": "-y69UHzUdSEp"
   },
   "source": [
    "# Part 3: New Packages (25 points total)\n",
    "\n",
    "In Part 1, you developed a workflow for the project your team is working on. One of your team members found this package that will help with some of the visualizations, however you discover that you don't currently have this package installed. \n",
    "\n",
    "A quick Google search tells you that the plotly Python library is an interactive, open-source plotting library that supports over 40 unique chart types covering a wide range of statistical, financial, geographic, scientific, and 3-dimensional use-cases. Sounds great, let's figure this out!\n",
    "\n",
    "## 3.1 Install Package using CLI\n",
    "You remember from class that you can install packages using the command line. Using your terminal, install the plotly package, then answer the following questions.\n",
    "\n",
    "### 3.1.1 (5 points): \n",
    "\n",
    "In the cell below, write down the command you used to install the package. "
   ]
  },
  {
   "cell_type": "markdown",
   "metadata": {
    "id": "fPWkcX5F0Xnw"
   },
   "source": [
    "pip install plotly==5.13.0 # accessed from plotly documentation @ https://plotly.com/python/getting-started/"
   ]
  },
  {
   "cell_type": "markdown",
   "metadata": {},
   "source": [
    "# IMPORTANT NOTE\n",
    "\n",
    "Particularly if you are using JupyterHub, you may get a message similar to this one in your terminal:\n",
    "\n",
    "![package_exists.jpg](https://raw.githubusercontent.com/msu-cmse-courses/cmse202-S23-data/main//HW/HW1/package_exists.jpg)\n",
    "\n",
    "This means that the package has already been installed. If that is the case, you still need to provide the command you *would* use to install the package above, and then proceed to the rest of this problem.\n"
   ]
  },
  {
   "cell_type": "markdown",
   "metadata": {
    "id": "NUzK-Xa-0Fid"
   },
   "source": [
    "### 3.2 Reading Package Documentation\n",
    "\n",
    "Now that you've installed Plotly, its time to explore the package! What can this package do? The best place to find this information is in the [documentation](https://plotly.com/). \n",
    "\n",
    "### 3.2.1 (10 points): \n",
    "\n",
    "Answer the following questions:\n",
    "1. What kind of package is Plotly? (e.g. Mathematical, Graphing, Statistical, etc.)?  \n",
    "2. How many different tabs exist in the Plotly Open Source Graphing Libraries?\n",
    "3. When would you use Plotly?\n",
    "4. Are there any packages you know that are similar to plotly?\n",
    "5. What are some different charts/plots you can create with Plotly?\n"
   ]
  },
  {
   "cell_type": "markdown",
   "metadata": {
    "id": "wr6SQ5kI_lrz"
   },
   "source": [
    "1. Plotly is a package that supports over 40 different types of graphing charts.\n",
    "2. There are 8 tabs for what I assume are 8 different languages.\n",
    "3. You would use Plotly when you want to plot graphs for an easier visualization of your data.\n",
    "4. Matplotlib and seaborn.\n",
    "5. You could create bar charts, scatter plots, pie charts and so much more."
   ]
  },
  {
   "cell_type": "markdown",
   "metadata": {
    "id": "vPiM9hCV_lKw"
   },
   "source": [
    "### 3.3 Using The New Package\n",
    "Finally, it's time to use the newly installed package! Pick a dataset from the [data package](https://plotly.com/python-api-reference/generated/plotly.data.html) that is a part of Plotly. \n",
    "\n",
    "\n",
    "### 3.3.1 (10 points):\n",
    "\n",
    "Create a graph using one of these datasets. You can use the documentation for inspiration, but try to change the variables around so you get to really experience the package! Make sure to include titles and axis labels!\n",
    "\n"
   ]
  },
  {
   "cell_type": "code",
   "execution_count": 19,
   "metadata": {},
   "outputs": [
    {
     "data": {
      "application/vnd.plotly.v1+json": {
       "config": {
        "plotlyServerURL": "https://plot.ly"
       },
       "data": [
        {
         "hovertemplate": "date=%{x}<br>MSFT=%{y}<extra></extra>",
         "legendgroup": "",
         "line": {
          "color": "#636efa",
          "dash": "solid"
         },
         "marker": {
          "symbol": "circle"
         },
         "mode": "lines",
         "name": "",
         "orientation": "v",
         "showlegend": false,
         "type": "scatter",
         "x": [
          "2018-01-01",
          "2018-01-08",
          "2018-01-15",
          "2018-01-22",
          "2018-01-29",
          "2018-02-05",
          "2018-02-12",
          "2018-02-19",
          "2018-02-26",
          "2018-03-05",
          "2018-03-12",
          "2018-03-19",
          "2018-03-26",
          "2018-04-02",
          "2018-04-09",
          "2018-04-16",
          "2018-04-23",
          "2018-04-30",
          "2018-05-07",
          "2018-05-14",
          "2018-05-21",
          "2018-05-28",
          "2018-06-04",
          "2018-06-11",
          "2018-06-18",
          "2018-06-25",
          "2018-07-02",
          "2018-07-09",
          "2018-07-16",
          "2018-07-23",
          "2018-07-30",
          "2018-08-06",
          "2018-08-13",
          "2018-08-20",
          "2018-08-27",
          "2018-09-03",
          "2018-09-10",
          "2018-09-17",
          "2018-09-24",
          "2018-10-01",
          "2018-10-08",
          "2018-10-15",
          "2018-10-22",
          "2018-10-29",
          "2018-11-05",
          "2018-11-12",
          "2018-11-19",
          "2018-11-26",
          "2018-12-03",
          "2018-12-10",
          "2018-12-17",
          "2018-12-24",
          "2018-12-31",
          "2019-01-07",
          "2019-01-14",
          "2019-01-21",
          "2019-01-28",
          "2019-02-04",
          "2019-02-11",
          "2019-02-18",
          "2019-02-25",
          "2019-03-04",
          "2019-03-11",
          "2019-03-18",
          "2019-03-25",
          "2019-04-01",
          "2019-04-08",
          "2019-04-15",
          "2019-04-22",
          "2019-04-29",
          "2019-05-06",
          "2019-05-13",
          "2019-05-20",
          "2019-05-27",
          "2019-06-03",
          "2019-06-10",
          "2019-06-17",
          "2019-06-24",
          "2019-07-01",
          "2019-07-08",
          "2019-07-15",
          "2019-07-22",
          "2019-07-29",
          "2019-08-05",
          "2019-08-12",
          "2019-08-19",
          "2019-08-26",
          "2019-09-02",
          "2019-09-09",
          "2019-09-16",
          "2019-09-23",
          "2019-09-30",
          "2019-10-07",
          "2019-10-14",
          "2019-10-21",
          "2019-10-28",
          "2019-11-04",
          "2019-11-11",
          "2019-11-18",
          "2019-11-25",
          "2019-12-02",
          "2019-12-09",
          "2019-12-16",
          "2019-12-23",
          "2019-12-30"
         ],
         "xaxis": "x",
         "y": [
          1,
          1.015988161560536,
          1.0205238457756245,
          1.0665607876956391,
          1.040707528275144,
          0.9998865857832728,
          1.043202153459527,
          1.0665607876956391,
          1.0551082990110374,
          1.0946819232411402,
          1.072683930770293,
          0.9885474319413214,
          1.034924537137441,
          1.0231318851767346,
          1.0554484622871425,
          1.0772196149853812,
          1.0865177211357813,
          1.0790339249567087,
          1.1078352963411884,
          1.0926408755495889,
          1.1153191832334917,
          1.1428733270694336,
          1.1523981709400573,
          1.1353894401771305,
          1.1385644826269534,
          1.1181539716939797,
          1.147068848008417,
          1.1954869895569342,
          1.2050118447667115,
          1.2210000857013248,
          1.225082192423581,
          1.2359677687727004,
          1.2198661929954373,
          1.2291642991458374,
          1.2737271737447062,
          1.227009825898405,
          1.2855199050794894,
          1.2956117406596723,
          1.2968590589214408,
          1.2714592862805467,
          1.242431086462613,
          1.2321125018230523,
          1.2128358835959658,
          1.203764617218174,
          1.242431086462613,
          1.2279169808840689,
          1.1687265864899288,
          1.2573987581948347,
          1.1885701057133435,
          1.2022904705229511,
          1.1138451159123457,
          1.1383376428543452,
          1.1557999511101045,
          1.1656650489700635,
          1.2213402489774292,
          1.2152170945636216,
          1.1654382205366092,
          1.1982083638006946,
          1.2271232401151322,
          1.2583059131804986,
          1.275994970495635,
          1.2530899137523548,
          1.3143213671771998,
          1.3272479912178707,
          1.3373398267980536,
          1.3594511427723972,
          1.371470623166558,
          1.398911443499003,
          1.4728426811919109,
          1.4616168621926098,
          1.4415465939098175,
          1.45220551191279,
          1.4314547583296346,
          1.4024265471725468,
          1.489964746797488,
          1.5018708923489987,
          1.5531239130712344,
          1.518993128041884,
          1.5541444028995486,
          1.5750084006121237,
          1.5491551411916282,
          1.6026759586647925,
          1.5523300929282209,
          1.5615149549492018,
          1.5435990692006107,
          1.5125297196387406,
          1.5632157599905712,
          1.5772763674503605,
          1.5570926849508404,
          1.581131634400008,
          1.5617416132953483,
          1.5661638719545554,
          1.583852929269692,
          1.5581131747791548,
          1.5957590748212025,
          1.629663201504406,
          1.655062974145301,
          1.7005329130166025,
          1.6962239778608914,
          1.7165211652903694,
          1.720716595516122,
          1.7522394318575931,
          1.7848962516181823,
          1.8024719740906685,
          1.7881845268582712
         ],
         "yaxis": "y"
        }
       ],
       "layout": {
        "legend": {
         "tracegroupgap": 0
        },
        "template": {
         "data": {
          "bar": [
           {
            "error_x": {
             "color": "#2a3f5f"
            },
            "error_y": {
             "color": "#2a3f5f"
            },
            "marker": {
             "line": {
              "color": "#E5ECF6",
              "width": 0.5
             },
             "pattern": {
              "fillmode": "overlay",
              "size": 10,
              "solidity": 0.2
             }
            },
            "type": "bar"
           }
          ],
          "barpolar": [
           {
            "marker": {
             "line": {
              "color": "#E5ECF6",
              "width": 0.5
             },
             "pattern": {
              "fillmode": "overlay",
              "size": 10,
              "solidity": 0.2
             }
            },
            "type": "barpolar"
           }
          ],
          "carpet": [
           {
            "aaxis": {
             "endlinecolor": "#2a3f5f",
             "gridcolor": "white",
             "linecolor": "white",
             "minorgridcolor": "white",
             "startlinecolor": "#2a3f5f"
            },
            "baxis": {
             "endlinecolor": "#2a3f5f",
             "gridcolor": "white",
             "linecolor": "white",
             "minorgridcolor": "white",
             "startlinecolor": "#2a3f5f"
            },
            "type": "carpet"
           }
          ],
          "choropleth": [
           {
            "colorbar": {
             "outlinewidth": 0,
             "ticks": ""
            },
            "type": "choropleth"
           }
          ],
          "contour": [
           {
            "colorbar": {
             "outlinewidth": 0,
             "ticks": ""
            },
            "colorscale": [
             [
              0,
              "#0d0887"
             ],
             [
              0.1111111111111111,
              "#46039f"
             ],
             [
              0.2222222222222222,
              "#7201a8"
             ],
             [
              0.3333333333333333,
              "#9c179e"
             ],
             [
              0.4444444444444444,
              "#bd3786"
             ],
             [
              0.5555555555555556,
              "#d8576b"
             ],
             [
              0.6666666666666666,
              "#ed7953"
             ],
             [
              0.7777777777777778,
              "#fb9f3a"
             ],
             [
              0.8888888888888888,
              "#fdca26"
             ],
             [
              1,
              "#f0f921"
             ]
            ],
            "type": "contour"
           }
          ],
          "contourcarpet": [
           {
            "colorbar": {
             "outlinewidth": 0,
             "ticks": ""
            },
            "type": "contourcarpet"
           }
          ],
          "heatmap": [
           {
            "colorbar": {
             "outlinewidth": 0,
             "ticks": ""
            },
            "colorscale": [
             [
              0,
              "#0d0887"
             ],
             [
              0.1111111111111111,
              "#46039f"
             ],
             [
              0.2222222222222222,
              "#7201a8"
             ],
             [
              0.3333333333333333,
              "#9c179e"
             ],
             [
              0.4444444444444444,
              "#bd3786"
             ],
             [
              0.5555555555555556,
              "#d8576b"
             ],
             [
              0.6666666666666666,
              "#ed7953"
             ],
             [
              0.7777777777777778,
              "#fb9f3a"
             ],
             [
              0.8888888888888888,
              "#fdca26"
             ],
             [
              1,
              "#f0f921"
             ]
            ],
            "type": "heatmap"
           }
          ],
          "heatmapgl": [
           {
            "colorbar": {
             "outlinewidth": 0,
             "ticks": ""
            },
            "colorscale": [
             [
              0,
              "#0d0887"
             ],
             [
              0.1111111111111111,
              "#46039f"
             ],
             [
              0.2222222222222222,
              "#7201a8"
             ],
             [
              0.3333333333333333,
              "#9c179e"
             ],
             [
              0.4444444444444444,
              "#bd3786"
             ],
             [
              0.5555555555555556,
              "#d8576b"
             ],
             [
              0.6666666666666666,
              "#ed7953"
             ],
             [
              0.7777777777777778,
              "#fb9f3a"
             ],
             [
              0.8888888888888888,
              "#fdca26"
             ],
             [
              1,
              "#f0f921"
             ]
            ],
            "type": "heatmapgl"
           }
          ],
          "histogram": [
           {
            "marker": {
             "pattern": {
              "fillmode": "overlay",
              "size": 10,
              "solidity": 0.2
             }
            },
            "type": "histogram"
           }
          ],
          "histogram2d": [
           {
            "colorbar": {
             "outlinewidth": 0,
             "ticks": ""
            },
            "colorscale": [
             [
              0,
              "#0d0887"
             ],
             [
              0.1111111111111111,
              "#46039f"
             ],
             [
              0.2222222222222222,
              "#7201a8"
             ],
             [
              0.3333333333333333,
              "#9c179e"
             ],
             [
              0.4444444444444444,
              "#bd3786"
             ],
             [
              0.5555555555555556,
              "#d8576b"
             ],
             [
              0.6666666666666666,
              "#ed7953"
             ],
             [
              0.7777777777777778,
              "#fb9f3a"
             ],
             [
              0.8888888888888888,
              "#fdca26"
             ],
             [
              1,
              "#f0f921"
             ]
            ],
            "type": "histogram2d"
           }
          ],
          "histogram2dcontour": [
           {
            "colorbar": {
             "outlinewidth": 0,
             "ticks": ""
            },
            "colorscale": [
             [
              0,
              "#0d0887"
             ],
             [
              0.1111111111111111,
              "#46039f"
             ],
             [
              0.2222222222222222,
              "#7201a8"
             ],
             [
              0.3333333333333333,
              "#9c179e"
             ],
             [
              0.4444444444444444,
              "#bd3786"
             ],
             [
              0.5555555555555556,
              "#d8576b"
             ],
             [
              0.6666666666666666,
              "#ed7953"
             ],
             [
              0.7777777777777778,
              "#fb9f3a"
             ],
             [
              0.8888888888888888,
              "#fdca26"
             ],
             [
              1,
              "#f0f921"
             ]
            ],
            "type": "histogram2dcontour"
           }
          ],
          "mesh3d": [
           {
            "colorbar": {
             "outlinewidth": 0,
             "ticks": ""
            },
            "type": "mesh3d"
           }
          ],
          "parcoords": [
           {
            "line": {
             "colorbar": {
              "outlinewidth": 0,
              "ticks": ""
             }
            },
            "type": "parcoords"
           }
          ],
          "pie": [
           {
            "automargin": true,
            "type": "pie"
           }
          ],
          "scatter": [
           {
            "fillpattern": {
             "fillmode": "overlay",
             "size": 10,
             "solidity": 0.2
            },
            "type": "scatter"
           }
          ],
          "scatter3d": [
           {
            "line": {
             "colorbar": {
              "outlinewidth": 0,
              "ticks": ""
             }
            },
            "marker": {
             "colorbar": {
              "outlinewidth": 0,
              "ticks": ""
             }
            },
            "type": "scatter3d"
           }
          ],
          "scattercarpet": [
           {
            "marker": {
             "colorbar": {
              "outlinewidth": 0,
              "ticks": ""
             }
            },
            "type": "scattercarpet"
           }
          ],
          "scattergeo": [
           {
            "marker": {
             "colorbar": {
              "outlinewidth": 0,
              "ticks": ""
             }
            },
            "type": "scattergeo"
           }
          ],
          "scattergl": [
           {
            "marker": {
             "colorbar": {
              "outlinewidth": 0,
              "ticks": ""
             }
            },
            "type": "scattergl"
           }
          ],
          "scattermapbox": [
           {
            "marker": {
             "colorbar": {
              "outlinewidth": 0,
              "ticks": ""
             }
            },
            "type": "scattermapbox"
           }
          ],
          "scatterpolar": [
           {
            "marker": {
             "colorbar": {
              "outlinewidth": 0,
              "ticks": ""
             }
            },
            "type": "scatterpolar"
           }
          ],
          "scatterpolargl": [
           {
            "marker": {
             "colorbar": {
              "outlinewidth": 0,
              "ticks": ""
             }
            },
            "type": "scatterpolargl"
           }
          ],
          "scatterternary": [
           {
            "marker": {
             "colorbar": {
              "outlinewidth": 0,
              "ticks": ""
             }
            },
            "type": "scatterternary"
           }
          ],
          "surface": [
           {
            "colorbar": {
             "outlinewidth": 0,
             "ticks": ""
            },
            "colorscale": [
             [
              0,
              "#0d0887"
             ],
             [
              0.1111111111111111,
              "#46039f"
             ],
             [
              0.2222222222222222,
              "#7201a8"
             ],
             [
              0.3333333333333333,
              "#9c179e"
             ],
             [
              0.4444444444444444,
              "#bd3786"
             ],
             [
              0.5555555555555556,
              "#d8576b"
             ],
             [
              0.6666666666666666,
              "#ed7953"
             ],
             [
              0.7777777777777778,
              "#fb9f3a"
             ],
             [
              0.8888888888888888,
              "#fdca26"
             ],
             [
              1,
              "#f0f921"
             ]
            ],
            "type": "surface"
           }
          ],
          "table": [
           {
            "cells": {
             "fill": {
              "color": "#EBF0F8"
             },
             "line": {
              "color": "white"
             }
            },
            "header": {
             "fill": {
              "color": "#C8D4E3"
             },
             "line": {
              "color": "white"
             }
            },
            "type": "table"
           }
          ]
         },
         "layout": {
          "annotationdefaults": {
           "arrowcolor": "#2a3f5f",
           "arrowhead": 0,
           "arrowwidth": 1
          },
          "autotypenumbers": "strict",
          "coloraxis": {
           "colorbar": {
            "outlinewidth": 0,
            "ticks": ""
           }
          },
          "colorscale": {
           "diverging": [
            [
             0,
             "#8e0152"
            ],
            [
             0.1,
             "#c51b7d"
            ],
            [
             0.2,
             "#de77ae"
            ],
            [
             0.3,
             "#f1b6da"
            ],
            [
             0.4,
             "#fde0ef"
            ],
            [
             0.5,
             "#f7f7f7"
            ],
            [
             0.6,
             "#e6f5d0"
            ],
            [
             0.7,
             "#b8e186"
            ],
            [
             0.8,
             "#7fbc41"
            ],
            [
             0.9,
             "#4d9221"
            ],
            [
             1,
             "#276419"
            ]
           ],
           "sequential": [
            [
             0,
             "#0d0887"
            ],
            [
             0.1111111111111111,
             "#46039f"
            ],
            [
             0.2222222222222222,
             "#7201a8"
            ],
            [
             0.3333333333333333,
             "#9c179e"
            ],
            [
             0.4444444444444444,
             "#bd3786"
            ],
            [
             0.5555555555555556,
             "#d8576b"
            ],
            [
             0.6666666666666666,
             "#ed7953"
            ],
            [
             0.7777777777777778,
             "#fb9f3a"
            ],
            [
             0.8888888888888888,
             "#fdca26"
            ],
            [
             1,
             "#f0f921"
            ]
           ],
           "sequentialminus": [
            [
             0,
             "#0d0887"
            ],
            [
             0.1111111111111111,
             "#46039f"
            ],
            [
             0.2222222222222222,
             "#7201a8"
            ],
            [
             0.3333333333333333,
             "#9c179e"
            ],
            [
             0.4444444444444444,
             "#bd3786"
            ],
            [
             0.5555555555555556,
             "#d8576b"
            ],
            [
             0.6666666666666666,
             "#ed7953"
            ],
            [
             0.7777777777777778,
             "#fb9f3a"
            ],
            [
             0.8888888888888888,
             "#fdca26"
            ],
            [
             1,
             "#f0f921"
            ]
           ]
          },
          "colorway": [
           "#636efa",
           "#EF553B",
           "#00cc96",
           "#ab63fa",
           "#FFA15A",
           "#19d3f3",
           "#FF6692",
           "#B6E880",
           "#FF97FF",
           "#FECB52"
          ],
          "font": {
           "color": "#2a3f5f"
          },
          "geo": {
           "bgcolor": "white",
           "lakecolor": "white",
           "landcolor": "#E5ECF6",
           "showlakes": true,
           "showland": true,
           "subunitcolor": "white"
          },
          "hoverlabel": {
           "align": "left"
          },
          "hovermode": "closest",
          "mapbox": {
           "style": "light"
          },
          "paper_bgcolor": "white",
          "plot_bgcolor": "#E5ECF6",
          "polar": {
           "angularaxis": {
            "gridcolor": "white",
            "linecolor": "white",
            "ticks": ""
           },
           "bgcolor": "#E5ECF6",
           "radialaxis": {
            "gridcolor": "white",
            "linecolor": "white",
            "ticks": ""
           }
          },
          "scene": {
           "xaxis": {
            "backgroundcolor": "#E5ECF6",
            "gridcolor": "white",
            "gridwidth": 2,
            "linecolor": "white",
            "showbackground": true,
            "ticks": "",
            "zerolinecolor": "white"
           },
           "yaxis": {
            "backgroundcolor": "#E5ECF6",
            "gridcolor": "white",
            "gridwidth": 2,
            "linecolor": "white",
            "showbackground": true,
            "ticks": "",
            "zerolinecolor": "white"
           },
           "zaxis": {
            "backgroundcolor": "#E5ECF6",
            "gridcolor": "white",
            "gridwidth": 2,
            "linecolor": "white",
            "showbackground": true,
            "ticks": "",
            "zerolinecolor": "white"
           }
          },
          "shapedefaults": {
           "line": {
            "color": "#2a3f5f"
           }
          },
          "ternary": {
           "aaxis": {
            "gridcolor": "white",
            "linecolor": "white",
            "ticks": ""
           },
           "baxis": {
            "gridcolor": "white",
            "linecolor": "white",
            "ticks": ""
           },
           "bgcolor": "#E5ECF6",
           "caxis": {
            "gridcolor": "white",
            "linecolor": "white",
            "ticks": ""
           }
          },
          "title": {
           "x": 0.05
          },
          "xaxis": {
           "automargin": true,
           "gridcolor": "white",
           "linecolor": "white",
           "ticks": "",
           "title": {
            "standoff": 15
           },
           "zerolinecolor": "white",
           "zerolinewidth": 2
          },
          "yaxis": {
           "automargin": true,
           "gridcolor": "white",
           "linecolor": "white",
           "ticks": "",
           "title": {
            "standoff": 15
           },
           "zerolinecolor": "white",
           "zerolinewidth": 2
          }
         }
        },
        "title": {
         "text": "Microsoft Stock closing prices from 2018/2019"
        },
        "xaxis": {
         "anchor": "y",
         "domain": [
          0,
          1
         ],
         "title": {
          "text": "date"
         }
        },
        "yaxis": {
         "anchor": "x",
         "domain": [
          0,
          1
         ],
         "title": {
          "text": "MSFT"
         }
        }
       }
      },
      "text/html": [
       "<div>                            <div id=\"71299f82-c49b-463a-baf5-2e93e1249e81\" class=\"plotly-graph-div\" style=\"height:525px; width:100%;\"></div>            <script type=\"text/javascript\">                require([\"plotly\"], function(Plotly) {                    window.PLOTLYENV=window.PLOTLYENV || {};                                    if (document.getElementById(\"71299f82-c49b-463a-baf5-2e93e1249e81\")) {                    Plotly.newPlot(                        \"71299f82-c49b-463a-baf5-2e93e1249e81\",                        [{\"hovertemplate\":\"date=%{x}<br>MSFT=%{y}<extra></extra>\",\"legendgroup\":\"\",\"line\":{\"color\":\"#636efa\",\"dash\":\"solid\"},\"marker\":{\"symbol\":\"circle\"},\"mode\":\"lines\",\"name\":\"\",\"orientation\":\"v\",\"showlegend\":false,\"x\":[\"2018-01-01\",\"2018-01-08\",\"2018-01-15\",\"2018-01-22\",\"2018-01-29\",\"2018-02-05\",\"2018-02-12\",\"2018-02-19\",\"2018-02-26\",\"2018-03-05\",\"2018-03-12\",\"2018-03-19\",\"2018-03-26\",\"2018-04-02\",\"2018-04-09\",\"2018-04-16\",\"2018-04-23\",\"2018-04-30\",\"2018-05-07\",\"2018-05-14\",\"2018-05-21\",\"2018-05-28\",\"2018-06-04\",\"2018-06-11\",\"2018-06-18\",\"2018-06-25\",\"2018-07-02\",\"2018-07-09\",\"2018-07-16\",\"2018-07-23\",\"2018-07-30\",\"2018-08-06\",\"2018-08-13\",\"2018-08-20\",\"2018-08-27\",\"2018-09-03\",\"2018-09-10\",\"2018-09-17\",\"2018-09-24\",\"2018-10-01\",\"2018-10-08\",\"2018-10-15\",\"2018-10-22\",\"2018-10-29\",\"2018-11-05\",\"2018-11-12\",\"2018-11-19\",\"2018-11-26\",\"2018-12-03\",\"2018-12-10\",\"2018-12-17\",\"2018-12-24\",\"2018-12-31\",\"2019-01-07\",\"2019-01-14\",\"2019-01-21\",\"2019-01-28\",\"2019-02-04\",\"2019-02-11\",\"2019-02-18\",\"2019-02-25\",\"2019-03-04\",\"2019-03-11\",\"2019-03-18\",\"2019-03-25\",\"2019-04-01\",\"2019-04-08\",\"2019-04-15\",\"2019-04-22\",\"2019-04-29\",\"2019-05-06\",\"2019-05-13\",\"2019-05-20\",\"2019-05-27\",\"2019-06-03\",\"2019-06-10\",\"2019-06-17\",\"2019-06-24\",\"2019-07-01\",\"2019-07-08\",\"2019-07-15\",\"2019-07-22\",\"2019-07-29\",\"2019-08-05\",\"2019-08-12\",\"2019-08-19\",\"2019-08-26\",\"2019-09-02\",\"2019-09-09\",\"2019-09-16\",\"2019-09-23\",\"2019-09-30\",\"2019-10-07\",\"2019-10-14\",\"2019-10-21\",\"2019-10-28\",\"2019-11-04\",\"2019-11-11\",\"2019-11-18\",\"2019-11-25\",\"2019-12-02\",\"2019-12-09\",\"2019-12-16\",\"2019-12-23\",\"2019-12-30\"],\"xaxis\":\"x\",\"y\":[1.0,1.015988161560536,1.0205238457756245,1.0665607876956391,1.040707528275144,0.9998865857832728,1.043202153459527,1.0665607876956391,1.0551082990110374,1.0946819232411402,1.072683930770293,0.9885474319413214,1.034924537137441,1.0231318851767346,1.0554484622871425,1.0772196149853812,1.0865177211357813,1.0790339249567087,1.1078352963411884,1.0926408755495889,1.1153191832334917,1.1428733270694336,1.1523981709400573,1.1353894401771305,1.1385644826269534,1.1181539716939797,1.147068848008417,1.1954869895569342,1.2050118447667115,1.2210000857013248,1.225082192423581,1.2359677687727004,1.2198661929954373,1.2291642991458374,1.2737271737447062,1.227009825898405,1.2855199050794894,1.2956117406596723,1.2968590589214408,1.2714592862805467,1.242431086462613,1.2321125018230523,1.2128358835959658,1.203764617218174,1.242431086462613,1.2279169808840689,1.1687265864899288,1.2573987581948347,1.1885701057133435,1.2022904705229511,1.1138451159123457,1.1383376428543452,1.1557999511101045,1.1656650489700635,1.2213402489774292,1.2152170945636216,1.1654382205366092,1.1982083638006946,1.2271232401151322,1.2583059131804986,1.275994970495635,1.2530899137523548,1.3143213671771998,1.3272479912178707,1.3373398267980536,1.3594511427723972,1.371470623166558,1.398911443499003,1.4728426811919109,1.4616168621926098,1.4415465939098175,1.45220551191279,1.4314547583296346,1.4024265471725468,1.489964746797488,1.5018708923489987,1.5531239130712344,1.518993128041884,1.5541444028995486,1.5750084006121237,1.5491551411916282,1.6026759586647925,1.5523300929282209,1.5615149549492018,1.5435990692006107,1.5125297196387406,1.5632157599905712,1.5772763674503605,1.5570926849508404,1.581131634400008,1.5617416132953483,1.5661638719545554,1.583852929269692,1.5581131747791548,1.5957590748212025,1.629663201504406,1.655062974145301,1.7005329130166025,1.6962239778608914,1.7165211652903694,1.720716595516122,1.7522394318575931,1.7848962516181823,1.8024719740906685,1.7881845268582712],\"yaxis\":\"y\",\"type\":\"scatter\"}],                        {\"template\":{\"data\":{\"histogram2dcontour\":[{\"type\":\"histogram2dcontour\",\"colorbar\":{\"outlinewidth\":0,\"ticks\":\"\"},\"colorscale\":[[0.0,\"#0d0887\"],[0.1111111111111111,\"#46039f\"],[0.2222222222222222,\"#7201a8\"],[0.3333333333333333,\"#9c179e\"],[0.4444444444444444,\"#bd3786\"],[0.5555555555555556,\"#d8576b\"],[0.6666666666666666,\"#ed7953\"],[0.7777777777777778,\"#fb9f3a\"],[0.8888888888888888,\"#fdca26\"],[1.0,\"#f0f921\"]]}],\"choropleth\":[{\"type\":\"choropleth\",\"colorbar\":{\"outlinewidth\":0,\"ticks\":\"\"}}],\"histogram2d\":[{\"type\":\"histogram2d\",\"colorbar\":{\"outlinewidth\":0,\"ticks\":\"\"},\"colorscale\":[[0.0,\"#0d0887\"],[0.1111111111111111,\"#46039f\"],[0.2222222222222222,\"#7201a8\"],[0.3333333333333333,\"#9c179e\"],[0.4444444444444444,\"#bd3786\"],[0.5555555555555556,\"#d8576b\"],[0.6666666666666666,\"#ed7953\"],[0.7777777777777778,\"#fb9f3a\"],[0.8888888888888888,\"#fdca26\"],[1.0,\"#f0f921\"]]}],\"heatmap\":[{\"type\":\"heatmap\",\"colorbar\":{\"outlinewidth\":0,\"ticks\":\"\"},\"colorscale\":[[0.0,\"#0d0887\"],[0.1111111111111111,\"#46039f\"],[0.2222222222222222,\"#7201a8\"],[0.3333333333333333,\"#9c179e\"],[0.4444444444444444,\"#bd3786\"],[0.5555555555555556,\"#d8576b\"],[0.6666666666666666,\"#ed7953\"],[0.7777777777777778,\"#fb9f3a\"],[0.8888888888888888,\"#fdca26\"],[1.0,\"#f0f921\"]]}],\"heatmapgl\":[{\"type\":\"heatmapgl\",\"colorbar\":{\"outlinewidth\":0,\"ticks\":\"\"},\"colorscale\":[[0.0,\"#0d0887\"],[0.1111111111111111,\"#46039f\"],[0.2222222222222222,\"#7201a8\"],[0.3333333333333333,\"#9c179e\"],[0.4444444444444444,\"#bd3786\"],[0.5555555555555556,\"#d8576b\"],[0.6666666666666666,\"#ed7953\"],[0.7777777777777778,\"#fb9f3a\"],[0.8888888888888888,\"#fdca26\"],[1.0,\"#f0f921\"]]}],\"contourcarpet\":[{\"type\":\"contourcarpet\",\"colorbar\":{\"outlinewidth\":0,\"ticks\":\"\"}}],\"contour\":[{\"type\":\"contour\",\"colorbar\":{\"outlinewidth\":0,\"ticks\":\"\"},\"colorscale\":[[0.0,\"#0d0887\"],[0.1111111111111111,\"#46039f\"],[0.2222222222222222,\"#7201a8\"],[0.3333333333333333,\"#9c179e\"],[0.4444444444444444,\"#bd3786\"],[0.5555555555555556,\"#d8576b\"],[0.6666666666666666,\"#ed7953\"],[0.7777777777777778,\"#fb9f3a\"],[0.8888888888888888,\"#fdca26\"],[1.0,\"#f0f921\"]]}],\"surface\":[{\"type\":\"surface\",\"colorbar\":{\"outlinewidth\":0,\"ticks\":\"\"},\"colorscale\":[[0.0,\"#0d0887\"],[0.1111111111111111,\"#46039f\"],[0.2222222222222222,\"#7201a8\"],[0.3333333333333333,\"#9c179e\"],[0.4444444444444444,\"#bd3786\"],[0.5555555555555556,\"#d8576b\"],[0.6666666666666666,\"#ed7953\"],[0.7777777777777778,\"#fb9f3a\"],[0.8888888888888888,\"#fdca26\"],[1.0,\"#f0f921\"]]}],\"mesh3d\":[{\"type\":\"mesh3d\",\"colorbar\":{\"outlinewidth\":0,\"ticks\":\"\"}}],\"scatter\":[{\"fillpattern\":{\"fillmode\":\"overlay\",\"size\":10,\"solidity\":0.2},\"type\":\"scatter\"}],\"parcoords\":[{\"type\":\"parcoords\",\"line\":{\"colorbar\":{\"outlinewidth\":0,\"ticks\":\"\"}}}],\"scatterpolargl\":[{\"type\":\"scatterpolargl\",\"marker\":{\"colorbar\":{\"outlinewidth\":0,\"ticks\":\"\"}}}],\"bar\":[{\"error_x\":{\"color\":\"#2a3f5f\"},\"error_y\":{\"color\":\"#2a3f5f\"},\"marker\":{\"line\":{\"color\":\"#E5ECF6\",\"width\":0.5},\"pattern\":{\"fillmode\":\"overlay\",\"size\":10,\"solidity\":0.2}},\"type\":\"bar\"}],\"scattergeo\":[{\"type\":\"scattergeo\",\"marker\":{\"colorbar\":{\"outlinewidth\":0,\"ticks\":\"\"}}}],\"scatterpolar\":[{\"type\":\"scatterpolar\",\"marker\":{\"colorbar\":{\"outlinewidth\":0,\"ticks\":\"\"}}}],\"histogram\":[{\"marker\":{\"pattern\":{\"fillmode\":\"overlay\",\"size\":10,\"solidity\":0.2}},\"type\":\"histogram\"}],\"scattergl\":[{\"type\":\"scattergl\",\"marker\":{\"colorbar\":{\"outlinewidth\":0,\"ticks\":\"\"}}}],\"scatter3d\":[{\"type\":\"scatter3d\",\"line\":{\"colorbar\":{\"outlinewidth\":0,\"ticks\":\"\"}},\"marker\":{\"colorbar\":{\"outlinewidth\":0,\"ticks\":\"\"}}}],\"scattermapbox\":[{\"type\":\"scattermapbox\",\"marker\":{\"colorbar\":{\"outlinewidth\":0,\"ticks\":\"\"}}}],\"scatterternary\":[{\"type\":\"scatterternary\",\"marker\":{\"colorbar\":{\"outlinewidth\":0,\"ticks\":\"\"}}}],\"scattercarpet\":[{\"type\":\"scattercarpet\",\"marker\":{\"colorbar\":{\"outlinewidth\":0,\"ticks\":\"\"}}}],\"carpet\":[{\"aaxis\":{\"endlinecolor\":\"#2a3f5f\",\"gridcolor\":\"white\",\"linecolor\":\"white\",\"minorgridcolor\":\"white\",\"startlinecolor\":\"#2a3f5f\"},\"baxis\":{\"endlinecolor\":\"#2a3f5f\",\"gridcolor\":\"white\",\"linecolor\":\"white\",\"minorgridcolor\":\"white\",\"startlinecolor\":\"#2a3f5f\"},\"type\":\"carpet\"}],\"table\":[{\"cells\":{\"fill\":{\"color\":\"#EBF0F8\"},\"line\":{\"color\":\"white\"}},\"header\":{\"fill\":{\"color\":\"#C8D4E3\"},\"line\":{\"color\":\"white\"}},\"type\":\"table\"}],\"barpolar\":[{\"marker\":{\"line\":{\"color\":\"#E5ECF6\",\"width\":0.5},\"pattern\":{\"fillmode\":\"overlay\",\"size\":10,\"solidity\":0.2}},\"type\":\"barpolar\"}],\"pie\":[{\"automargin\":true,\"type\":\"pie\"}]},\"layout\":{\"autotypenumbers\":\"strict\",\"colorway\":[\"#636efa\",\"#EF553B\",\"#00cc96\",\"#ab63fa\",\"#FFA15A\",\"#19d3f3\",\"#FF6692\",\"#B6E880\",\"#FF97FF\",\"#FECB52\"],\"font\":{\"color\":\"#2a3f5f\"},\"hovermode\":\"closest\",\"hoverlabel\":{\"align\":\"left\"},\"paper_bgcolor\":\"white\",\"plot_bgcolor\":\"#E5ECF6\",\"polar\":{\"bgcolor\":\"#E5ECF6\",\"angularaxis\":{\"gridcolor\":\"white\",\"linecolor\":\"white\",\"ticks\":\"\"},\"radialaxis\":{\"gridcolor\":\"white\",\"linecolor\":\"white\",\"ticks\":\"\"}},\"ternary\":{\"bgcolor\":\"#E5ECF6\",\"aaxis\":{\"gridcolor\":\"white\",\"linecolor\":\"white\",\"ticks\":\"\"},\"baxis\":{\"gridcolor\":\"white\",\"linecolor\":\"white\",\"ticks\":\"\"},\"caxis\":{\"gridcolor\":\"white\",\"linecolor\":\"white\",\"ticks\":\"\"}},\"coloraxis\":{\"colorbar\":{\"outlinewidth\":0,\"ticks\":\"\"}},\"colorscale\":{\"sequential\":[[0.0,\"#0d0887\"],[0.1111111111111111,\"#46039f\"],[0.2222222222222222,\"#7201a8\"],[0.3333333333333333,\"#9c179e\"],[0.4444444444444444,\"#bd3786\"],[0.5555555555555556,\"#d8576b\"],[0.6666666666666666,\"#ed7953\"],[0.7777777777777778,\"#fb9f3a\"],[0.8888888888888888,\"#fdca26\"],[1.0,\"#f0f921\"]],\"sequentialminus\":[[0.0,\"#0d0887\"],[0.1111111111111111,\"#46039f\"],[0.2222222222222222,\"#7201a8\"],[0.3333333333333333,\"#9c179e\"],[0.4444444444444444,\"#bd3786\"],[0.5555555555555556,\"#d8576b\"],[0.6666666666666666,\"#ed7953\"],[0.7777777777777778,\"#fb9f3a\"],[0.8888888888888888,\"#fdca26\"],[1.0,\"#f0f921\"]],\"diverging\":[[0,\"#8e0152\"],[0.1,\"#c51b7d\"],[0.2,\"#de77ae\"],[0.3,\"#f1b6da\"],[0.4,\"#fde0ef\"],[0.5,\"#f7f7f7\"],[0.6,\"#e6f5d0\"],[0.7,\"#b8e186\"],[0.8,\"#7fbc41\"],[0.9,\"#4d9221\"],[1,\"#276419\"]]},\"xaxis\":{\"gridcolor\":\"white\",\"linecolor\":\"white\",\"ticks\":\"\",\"title\":{\"standoff\":15},\"zerolinecolor\":\"white\",\"automargin\":true,\"zerolinewidth\":2},\"yaxis\":{\"gridcolor\":\"white\",\"linecolor\":\"white\",\"ticks\":\"\",\"title\":{\"standoff\":15},\"zerolinecolor\":\"white\",\"automargin\":true,\"zerolinewidth\":2},\"scene\":{\"xaxis\":{\"backgroundcolor\":\"#E5ECF6\",\"gridcolor\":\"white\",\"linecolor\":\"white\",\"showbackground\":true,\"ticks\":\"\",\"zerolinecolor\":\"white\",\"gridwidth\":2},\"yaxis\":{\"backgroundcolor\":\"#E5ECF6\",\"gridcolor\":\"white\",\"linecolor\":\"white\",\"showbackground\":true,\"ticks\":\"\",\"zerolinecolor\":\"white\",\"gridwidth\":2},\"zaxis\":{\"backgroundcolor\":\"#E5ECF6\",\"gridcolor\":\"white\",\"linecolor\":\"white\",\"showbackground\":true,\"ticks\":\"\",\"zerolinecolor\":\"white\",\"gridwidth\":2}},\"shapedefaults\":{\"line\":{\"color\":\"#2a3f5f\"}},\"annotationdefaults\":{\"arrowcolor\":\"#2a3f5f\",\"arrowhead\":0,\"arrowwidth\":1},\"geo\":{\"bgcolor\":\"white\",\"landcolor\":\"#E5ECF6\",\"subunitcolor\":\"white\",\"showland\":true,\"showlakes\":true,\"lakecolor\":\"white\"},\"title\":{\"x\":0.05},\"mapbox\":{\"style\":\"light\"}}},\"xaxis\":{\"anchor\":\"y\",\"domain\":[0.0,1.0],\"title\":{\"text\":\"date\"}},\"yaxis\":{\"anchor\":\"x\",\"domain\":[0.0,1.0],\"title\":{\"text\":\"MSFT\"}},\"legend\":{\"tracegroupgap\":0},\"title\":{\"text\":\"Microsoft Stock closing prices from 2018/2019\"}},                        {\"responsive\": true}                    ).then(function(){\n",
       "                            \n",
       "var gd = document.getElementById('71299f82-c49b-463a-baf5-2e93e1249e81');\n",
       "var x = new MutationObserver(function (mutations, observer) {{\n",
       "        var display = window.getComputedStyle(gd).display;\n",
       "        if (!display || display === 'none') {{\n",
       "            console.log([gd, 'removed!']);\n",
       "            Plotly.purge(gd);\n",
       "            observer.disconnect();\n",
       "        }}\n",
       "}});\n",
       "\n",
       "// Listen for the removal of the full notebook cells\n",
       "var notebookContainer = gd.closest('#notebook-container');\n",
       "if (notebookContainer) {{\n",
       "    x.observe(notebookContainer, {childList: true});\n",
       "}}\n",
       "\n",
       "// Listen for the clearing of the current output cell\n",
       "var outputEl = gd.closest('.output');\n",
       "if (outputEl) {{\n",
       "    x.observe(outputEl, {childList: true});\n",
       "}}\n",
       "\n",
       "                        })                };                });            </script>        </div>"
      ]
     },
     "metadata": {},
     "output_type": "display_data"
    }
   ],
   "source": [
    "import plotly.express as px\n",
    "\n",
    "df = px.data.stocks()\n",
    "fig = px.line(df, y=df['MSFT'], x=df[\"date\"], title='Microsoft Stock closing prices from 2018/2019')\n",
    "fig.show()"
   ]
  },
  {
   "cell_type": "markdown",
   "metadata": {
    "id": "ybbrqSTypszA"
   },
   "source": [
    "---\n",
    "\n",
    "# Part 4: Finishing (5 points)\n",
    "\n",
    "\n",
    "&#9989; Have you put **your name** and **GitHub username** at the top of your notebook?\n",
    "\n",
    "Yes\n",
    "\n",
    "&#9989; Have you added the **TA** and **Instructor** to your GitHub repository?\n",
    "\n",
    "Yes\n",
    "\n",
    "&#9989; Merge your `homework_01` branch into the `main` branch and checkout the `main` branch\n",
    "\n",
    "```bash\n",
    "\n",
    "# Put the command you used to merge your branch here\n",
    "\n",
    "git merge homework_01 main\n",
    "\n",
    "```\n",
    "\n",
    "\n",
    "\n",
    "&#9989; Push your repository to GitHub.\n",
    "\n",
    "\n",
    "```bash\n",
    "\n",
    "# Put the command you used to push to GitHub here\n",
    "\n",
    "git push origin main\n",
    "\n",
    "```\n",
    "\n",
    "\n",
    "**NOTE:** The grader is able to see your commit messages, branches and whether you pushed the repo at this stage.\n"
   ]
  },
  {
   "cell_type": "markdown",
   "metadata": {
    "id": "P5sGvK7sqNoX"
   },
   "source": [
    "---\n",
    "## Assignment wrap-up"
   ]
  },
  {
   "cell_type": "markdown",
   "metadata": {
    "id": "fEw79O_XqO93"
   },
   "source": [
    "### Congratulations, you're done!\n",
    "\n",
    "Submit this assignment by uploading it to the course Desire2Learn web page.  Go to the **\"Homework Assignments\"** folder, find the dropbox link for Homework #1, and upload it there."
   ]
  },
  {
   "cell_type": "markdown",
   "metadata": {
    "id": "olTHsASyqTP6"
   },
   "source": [
    "&#169; Copyright 2023,  Department of Computational Mathematics, Science and Engineering at Michigan State University"
   ]
  }
 ],
 "metadata": {
  "colab": {
   "provenance": []
  },
  "kernelspec": {
   "display_name": "Python 3",
   "language": "python",
   "name": "python3"
  },
  "language_info": {
   "codemirror_mode": {
    "name": "ipython",
    "version": 3
   },
   "file_extension": ".py",
   "mimetype": "text/x-python",
   "name": "python",
   "nbconvert_exporter": "python",
   "pygments_lexer": "ipython3",
   "version": "3.8.8"
  },
  "vscode": {
   "interpreter": {
    "hash": "31f2aee4e71d21fbe5cf8b01ff0e069b9275f58929596ceb00d14d90e3e16cd6"
   }
  }
 },
 "nbformat": 4,
 "nbformat_minor": 4
}
